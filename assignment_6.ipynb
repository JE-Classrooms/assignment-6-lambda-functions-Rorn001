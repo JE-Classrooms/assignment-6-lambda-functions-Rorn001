{
 "cells": [
  {
   "cell_type": "markdown",
   "metadata": {},
   "source": [
    "# Assignment 6"
   ]
  },
  {
   "cell_type": "markdown",
   "metadata": {},
   "source": [
    "**Exercise 1:**  write a Python program to find palindromes in a given list of strings using Lambda.\n",
    "\n",
    "Apply the Python program for the following two lists:\n",
    "\n",
    "**Input 1:** ```['civic', 'Lambda', 'Python', 'QTM', 'Java', 'ana']```\n",
    "\n",
    "**Output 1:** ```['civic', 'ana']```\n",
    "\n",
    "**Input 2:** ```['nurses run', 'Nurses Run', 'madam', 'Stats', 'World', 'what']```\n",
    "\n",
    "**Output 2:** ```['nurses run', 'Nurses Run', 'madam', 'Stats']```"
   ]
  },
  {
   "cell_type": "code",
   "execution_count": 23,
   "metadata": {},
   "outputs": [
    {
     "data": {
      "text/plain": [
       "['civic', 'ana']"
      ]
     },
     "execution_count": 23,
     "metadata": {},
     "output_type": "execute_result"
    }
   ],
   "source": [
    "l1=['civic', 'Lambda', 'Python', 'QTM', 'Java', 'ana']\n",
    "\n",
    "def reverse(x):\n",
    "    str=\"\"\n",
    "    for i in range(len(x)):\n",
    "        str=str+x[-(1+i)]\n",
    "    return str\n",
    "        \n",
    "result1=filter(lambda x: x==reverse(x),l1)\n",
    "list(result1)"
   ]
  },
  {
   "cell_type": "code",
   "execution_count": 54,
   "metadata": {},
   "outputs": [
    {
     "data": {
      "text/plain": [
       "['nurses run', 'Nurses Run', 'madam', 'Stats']"
      ]
     },
     "execution_count": 54,
     "metadata": {},
     "output_type": "execute_result"
    }
   ],
   "source": [
    "l2=['nurses run', 'Nurses Run', 'madam', 'Stats', 'World', 'what']\n",
    "\n",
    "def reverse(x):\n",
    "    str=\"\"\n",
    "    for i in range(len(x)):\n",
    "        if x[i] != ' ':\n",
    "            str=str+x[-(1+i)]\n",
    "    return str\n",
    "        \n",
    "result2=filter(lambda x: x.lower().replace(' ','')==reverse(x.lower().replace(' ','')),l2)\n",
    "list(result2)"
   ]
  },
  {
   "cell_type": "code",
   "execution_count": null,
   "metadata": {},
   "outputs": [],
   "source": []
  },
  {
   "cell_type": "markdown",
   "metadata": {},
   "source": [
    "**Exercise 2:** write a Python program to calculate the sum of the positive and negative numbers of a given list of numbers using lambda function.\n",
    "\n",
    "**Output:**\n",
    "\n",
    "Original list: [2, 4, -6, -9, 11, -12, 14, -5, 17]\n",
    "\n",
    "Sum of the positive numbers:  -32\n",
    "\n",
    "Sum of the negative numbers:  48"
   ]
  },
  {
   "cell_type": "code",
   "execution_count": 69,
   "metadata": {},
   "outputs": [
    {
     "name": "stdout",
     "output_type": "stream",
     "text": [
      "sum of the positive numbers is 48 and sum of the negative number is -32\n"
     ]
    }
   ],
   "source": [
    "nlist=[2, 4, -6, -9, 11, -12, 14, -5, 17]\n",
    "positive=filter(lambda x: x>0,nlist)\n",
    "negative=filter(lambda x: x<0,nlist)\n",
    "result3='sum of the positive numbers is '+ str(sum(positive))+' and sum of the negative number is '+str(sum(negative))\n",
    "print(result3)"
   ]
  },
  {
   "cell_type": "markdown",
   "metadata": {},
   "source": [
    "**Exercise 3:** write a Python program to find the maximum, minimum and average values in a given heterogeneous list using lambda.\n",
    "\n",
    "**Output:**\n",
    "\n",
    "Original list: ['I', 'love' 3, 2, 4, 5, 'Python', 12]\n",
    "\n",
    "Maximum value: 12\n",
    "\n",
    "Minimum value: 2\n",
    "\n",
    "Average value: 5.2"
   ]
  },
  {
   "cell_type": "code",
   "execution_count": 67,
   "metadata": {},
   "outputs": [
    {
     "name": "stdout",
     "output_type": "stream",
     "text": [
      "max is  12\n",
      "min is  2\n",
      "average is 5.2\n"
     ]
    }
   ],
   "source": [
    "l4=['I', 'love', 3, 2, 4, 5, 'Python', 12]\n",
    "numbers=filter(lambda x: type(x) == int, l4)\n",
    "l5=list(numbers)\n",
    "\n",
    "print('max is ',max(l5))\n",
    "print('min is ',min(l5))\n",
    "print('average is',sum(l5)/len(l5))"
   ]
  }
 ],
 "metadata": {
  "kernelspec": {
   "display_name": "conda_amazonei_mxnet_p36",
   "language": "python",
   "name": "conda_amazonei_mxnet_p36"
  },
  "language_info": {
   "codemirror_mode": {
    "name": "ipython",
    "version": 3
   },
   "file_extension": ".py",
   "mimetype": "text/x-python",
   "name": "python",
   "nbconvert_exporter": "python",
   "pygments_lexer": "ipython3",
   "version": "3.6.13"
  },
  "vscode": {
   "interpreter": {
    "hash": "9fbb33e86ca55080a202fed700efde3fb4ffe3f46131e5b52201b9ba06ce5f72"
   }
  }
 },
 "nbformat": 4,
 "nbformat_minor": 4
}
